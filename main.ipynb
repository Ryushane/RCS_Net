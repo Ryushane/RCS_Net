{
 "cells": [
  {
   "cell_type": "code",
   "execution_count": null,
   "metadata": {},
   "outputs": [],
   "source": [
    "## One-Dim Incremental learning"
   ]
  },
  {
   "cell_type": "code",
   "execution_count": 1,
   "metadata": {},
   "outputs": [],
   "source": [
    "from typing import ForwardRef\n",
    "import torch\n",
    "import torch.nn as nn\n",
    "import torchvision as tv\n",
    "import torch.nn.functional as F\n",
    "from torch.autograd import Variable\n",
    "\n",
    "class OneDimNet(nn.Module):\n",
    "    def __init__(self):\n",
    "        super(OneDimNet, self).__init__()\n",
    "        self.conv1 = nn.Conv1d(in_channels=1, out_channels=10, kernel_size=3, stride=2) # length = 479\n",
    "        self.max_pool1=nn.MaxPool1d(kernel_size=3, stride=2) # length = 239\n",
    "        self.conv2=nn.Conv1d(10, 20, 3, 2) # length = 119\n",
    "        self.max_pool2 = nn.MaxPool1d(3, 2) # length = 59\n",
    "        self.conv3=nn.Conv1d(20, 40, 3, 2) # length = 29\n",
    "\n",
    "        self.liner1 = nn.Linear(40 * 14, 120)\n",
    "        self.liner2 = nn.Linear(120, 84)\n",
    "        self.liner3 = nn.Linear(84, 4)\n",
    "\n",
    "    def forward(self, x):\n",
    "        x = F.relu(self.conv1(x))\n",
    "        x = self.max_pool1(x)\n",
    "        x = F.relu(self.conv2(x))\n",
    "        x = self.max_pool2(x)\n",
    "        x = F.relu(self.conv3(x))\n",
    "        \n",
    "\n",
    "        x = x.view(-1, 40 * 14)\n",
    "        x = F.relu(self.liner1(x))\n",
    "        x = F.relu(self.liner2(x))\n",
    "        x = self.liner3(x)\n",
    "\n",
    "        return x"
   ]
  },
  {
   "cell_type": "code",
   "execution_count": 41,
   "metadata": {},
   "outputs": [
    {
     "data": {
      "text/plain": [
       "tensor([[ 0.0971, -0.0596,  0.0462,  0.0827]], grad_fn=<AddmmBackward0>)"
      ]
     },
     "execution_count": 41,
     "metadata": {},
     "output_type": "execute_result"
    }
   ],
   "source": []
  },
  {
   "cell_type": "code",
   "execution_count": 31,
   "metadata": {},
   "outputs": [],
   "source": [
    "output = net.forward(input)"
   ]
  },
  {
   "cell_type": "code",
   "execution_count": 26,
   "metadata": {},
   "outputs": [],
   "source": [
    "conv1=nn.Conv1d(20, 40, 3, 2) # length = 29\n",
    "input = torch.randn(1, 29, 20) # batch, length, channels"
   ]
  },
  {
   "cell_type": "code",
   "execution_count": 27,
   "metadata": {},
   "outputs": [],
   "source": [
    "input = input.permute(0,2,1)\n",
    "input = Variable(input)"
   ]
  },
  {
   "cell_type": "code",
   "execution_count": 28,
   "metadata": {},
   "outputs": [],
   "source": [
    "out = conv1(input)"
   ]
  },
  {
   "cell_type": "code",
   "execution_count": 32,
   "metadata": {},
   "outputs": [
    {
     "data": {
      "text/plain": [
       "torch.Size([1, 40, 14])"
      ]
     },
     "execution_count": 32,
     "metadata": {},
     "output_type": "execute_result"
    }
   ],
   "source": [
    "out.size()"
   ]
  },
  {
   "cell_type": "code",
   "execution_count": 18,
   "metadata": {},
   "outputs": [
    {
     "data": {
      "text/plain": [
       "(3, 1)"
      ]
     },
     "execution_count": 18,
     "metadata": {},
     "output_type": "execute_result"
    }
   ],
   "source": [
    "sin = np.array(np.load('sin.npy'))\n",
    "tri = np.array(np.load('tri.npy'))\n",
    "squ = np.array(np.load('squ.npy'))\n",
    "x = np.array([sin,tri,squ])\n",
    "x.shape\n",
    "y = np.array([[0],[1],[2]])\n",
    "y\n",
    "y.shape\n"
   ]
  },
  {
   "cell_type": "code",
   "execution_count": 33,
   "metadata": {},
   "outputs": [
    {
     "name": "stdout",
     "output_type": "stream",
     "text": [
      "Sequential(\n",
      "  (0): Linear(in_features=256, out_features=128, bias=True)\n",
      "  (1): ReLU()\n",
      "  (2): Linear(in_features=128, out_features=10, bias=True)\n",
      "  (3): ReLU()\n",
      "  (4): Linear(in_features=10, out_features=1, bias=True)\n",
      "  (5): Sigmoid()\n",
      ")\n",
      "tensor([[0.0070],\n",
      "        [0.9969],\n",
      "        [1.0000]])\n"
     ]
    }
   ],
   "source": [
    "import torch\n",
    "import torch.nn as nn\n",
    "import numpy as np\n",
    "\n",
    "# 效果不太好\n",
    "sin = np.array(np.load('sin.npy'))\n",
    "tri = np.array(np.load('tri.npy'))\n",
    "squ = np.array(np.load('squ.npy'))\n",
    "\n",
    "# 构建输入集\n",
    "# x = np.mat('0 0;'\n",
    "#            '0 1;'\n",
    "#            '1 0;'\n",
    "#            '1 1')\n",
    "x = np.array([sin,tri,squ])\n",
    "x = torch.tensor(x).float()\n",
    "y = np.array([[0],[1],[2]])\n",
    "y = torch.tensor(y).float()\n",
    "\n",
    "# 搭建网络\n",
    "myNet = nn.Sequential(\n",
    "    nn.Linear(256, 128),\n",
    "    nn.ReLU(),\n",
    "    nn.Linear(128, 10),\n",
    "    nn.ReLU(),\n",
    "    nn.Linear(10, 1),\n",
    "    nn.Sigmoid()\n",
    ")\n",
    "print(myNet)\n",
    "\n",
    "# 设置优化器\n",
    "optimzer = torch.optim.SGD(myNet.parameters(), lr=0.05)\n",
    "loss_func = nn.MSELoss()\n",
    "\n",
    "for epoch in range(5000):\n",
    "    out = myNet(x)\n",
    "    loss = loss_func(out, y)  # 计算误差\n",
    "    optimzer.zero_grad()  # 清除梯度\n",
    "    loss.backward()\n",
    "    optimzer.step()\n",
    "\n",
    "\n",
    "print(myNet(x).data)\n"
   ]
  },
  {
   "cell_type": "code",
   "execution_count": 34,
   "metadata": {},
   "outputs": [
    {
     "data": {
      "text/plain": [
       "tensor([0.0173])"
      ]
     },
     "execution_count": 34,
     "metadata": {},
     "output_type": "execute_result"
    }
   ],
   "source": [
    "input=np.load('sin_30.npy')\n",
    "x = torch.tensor(input).float()\n",
    "(myNet(x).data)\n"
   ]
  },
  {
   "cell_type": "markdown",
   "metadata": {},
   "source": []
  },
  {
   "cell_type": "code",
   "execution_count": 48,
   "metadata": {},
   "outputs": [],
   "source": [
    "# from typing import ForwardRef\n",
    "import torch\n",
    "import torch.nn as nn\n",
    "import torchvision as tv\n",
    "import torch.nn.functional as F\n",
    "from torch.autograd import Variable\n",
    "\n",
    "class OneDimNet(nn.Module):\n",
    "    def __init__(self):\n",
    "        super(OneDimNet, self).__init__()\n",
    "        ## input = 1 x 227 x 1 (Row, Column, channel)\n",
    "        self.conv1 = nn.Conv1d(in_channels=1, out_channels=96, kernel_size=11, stride=4, padding=0) # weight of size [96, 1, 11] (out chan, in chan, ker_size)\n",
    "        self.max_pool1=nn.MaxPool1d(kernel_size=3, stride=2) # length = \n",
    "        self.conv2=nn.Conv1d(96, 256, 5, 1, 2) # length = 119\n",
    "        self.max_pool2 = nn.MaxPool1d(3, 2) # length = 59\n",
    "        self.conv3=nn.Conv1d(256, 384, 3, 1, 1) # length = 29\n",
    "        self.conv4=nn.Conv1d(384, 384, 3, 1, 1)\n",
    "        self.conv5=nn.Conv1d(384, 256, 3, 1, 1)\n",
    "\n",
    "\n",
    "        self.fc1 = nn.Linear(256, 4096)\n",
    "        self.fc2 = nn.Linear(4096, 4096)\n",
    "        self.fc3 = nn.Linear(4096, 3)\n",
    "\n",
    "    def forward(self, x):\n",
    "        x = F.relu(self.conv1(x))\n",
    "        x = self.max_pool1(x)\n",
    "        x = F.relu(self.conv2(x))\n",
    "        x = self.max_pool2(x)\n",
    "        x = F.relu(self.conv3(x))\n",
    "        \n",
    "\n",
    "        x = x.view(-1, self.num_flat_features(x))\n",
    "        x = F.relu(self.liner1(x))\n",
    "        x = F.relu(self.liner2(x))\n",
    "        x = self.liner3(x)\n",
    "        return x\n",
    "    \n",
    "    def num_flat_features(self, x):\n",
    "        size = x.size()[1:]\n",
    "        num_features=1\n",
    "        for s in size:\n",
    "            num_features*=s\n",
    "        return num_features\n",
    "\n",
    "    # optimzer = torch.optim.SGD(OneDimNet.parameters(), lr=0.05)\n",
    "    # loss_func = nn.MSELoss()\n",
    "\n",
    "    # for epoch in range(5000):\n",
    "    #     out = OneDimNet(x)\n",
    "    #     loss = loss_func(out, y)  # 计算误差\n",
    "    #     optimzer.zero_grad()  # 清除梯度\n",
    "    #     loss.backward()\n",
    "    #     optimzer.step()"
   ]
  },
  {
   "cell_type": "code",
   "execution_count": 49,
   "metadata": {},
   "outputs": [
    {
     "name": "stdout",
     "output_type": "stream",
     "text": [
      "OneDimNet(\n",
      "  (conv1): Conv1d(1, 96, kernel_size=(11,), stride=(4,))\n",
      "  (max_pool1): MaxPool1d(kernel_size=3, stride=2, padding=0, dilation=1, ceil_mode=False)\n",
      "  (conv2): Conv1d(96, 256, kernel_size=(5,), stride=(1,), padding=(2,))\n",
      "  (max_pool2): MaxPool1d(kernel_size=3, stride=2, padding=0, dilation=1, ceil_mode=False)\n",
      "  (conv3): Conv1d(256, 384, kernel_size=(3,), stride=(1,), padding=(1,))\n",
      "  (conv4): Conv1d(384, 384, kernel_size=(3,), stride=(1,), padding=(1,))\n",
      "  (conv5): Conv1d(384, 256, kernel_size=(3,), stride=(1,), padding=(1,))\n",
      "  (fc1): Linear(in_features=256, out_features=4096, bias=True)\n",
      "  (fc2): Linear(in_features=4096, out_features=4096, bias=True)\n",
      "  (fc3): Linear(in_features=4096, out_features=3, bias=True)\n",
      ")\n"
     ]
    }
   ],
   "source": [
    "net=OneDimNet()\n",
    "print(net)\n",
    "\n",
    "input = Variable(torch.randn(3, 1, 227)) # batch, channel, Height, Width\n",
    "\n",
    "optimzer = torch.optim.SGD(OneDimNet.parameters(), lr=0.05)\n",
    "loss_func = nn.MSELoss()\n",
    "\n",
    "for epoch in range(5000):\n",
    "    out = OneDimNet(x)\n",
    "    loss = loss_func(out, y)  # 计算误差\n",
    "    optimzer.zero_grad()  # 清除梯度\n",
    "    loss.backward()\n",
    "    optimzer.step()"
   ]
  },
  {
   "cell_type": "code",
   "execution_count": 54,
   "metadata": {},
   "outputs": [
    {
     "name": "stdout",
     "output_type": "stream",
     "text": [
      "tensor([[[ 0.0509, -0.8549,  0.0343,  ...,  0.4890,  0.0732, -0.3196],\n",
      "         [ 0.8909,  0.1815, -0.5570,  ...,  0.0067,  0.2550,  0.3093],\n",
      "         [-1.2353,  0.0278,  0.5363,  ..., -0.8812, -0.7001,  0.7730],\n",
      "         ...,\n",
      "         [-0.0428,  0.3096,  0.0481,  ...,  0.8138,  1.2837, -0.3760],\n",
      "         [ 1.5505,  0.4601, -0.5719,  ...,  0.7353,  0.5914, -0.4212],\n",
      "         [-0.7276, -0.0724,  0.5273,  ..., -0.2496, -0.8922, -0.6197]]],\n",
      "       grad_fn=<SqueezeBackward1>)\n"
     ]
    }
   ],
   "source": [
    "conv1 = nn.Conv1d(in_channels=1, out_channels=96, kernel_size=11, stride=4, padding=0) \n",
    "input = Variable(torch.randn(1, 1, 227)) # batch, channel, Height, Width\n",
    "out = conv1(input)\n",
    "print(out)"
   ]
  },
  {
   "cell_type": "code",
   "execution_count": null,
   "metadata": {},
   "outputs": [],
   "source": []
  }
 ],
 "metadata": {
  "interpreter": {
   "hash": "1bc0b564b1123c528a87a484e5506920facf1ea01338cd3f6b589bbb0b589e01"
  },
  "kernelspec": {
   "display_name": "Python 3.8.5 64-bit ('pt': conda)",
   "language": "python",
   "name": "python3"
  },
  "language_info": {
   "codemirror_mode": {
    "name": "ipython",
    "version": 3
   },
   "file_extension": ".py",
   "mimetype": "text/x-python",
   "name": "python",
   "nbconvert_exporter": "python",
   "pygments_lexer": "ipython3",
   "version": "3.8.5"
  },
  "orig_nbformat": 4
 },
 "nbformat": 4,
 "nbformat_minor": 2
}
